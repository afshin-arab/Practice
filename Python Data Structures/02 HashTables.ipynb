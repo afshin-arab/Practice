{
 "cells": [
  {
   "cell_type": "code",
   "execution_count": 133,
   "metadata": {},
   "outputs": [],
   "source": [
    "# Hash table class:\n",
    "class hashtable():\n",
    "    \n",
    "    def __init__(self):\n",
    "        self.max = 10\n",
    "        self.arr = [[] for i in range(self.max)]\n",
    "    \n",
    "    # a function to get the hash value of a string:\n",
    "    def get_hash(self,key):\n",
    "        h = 0\n",
    "        for char in key:\n",
    "            h += ord(char)\n",
    "        return h%self.max \n",
    "    \n",
    "    def __setitem__(self,key,value):\n",
    "        # collision support using \"separate chaining\"\n",
    "        h = self.get_hash(key)\n",
    "        found = False\n",
    "        for index, element in enumerate(self.arr[h]):\n",
    "            if len(element) == 2 and element[0] == key:\n",
    "                self.arr[h][index] = (key,value)\n",
    "                found = True\n",
    "                break\n",
    "        if not found:\n",
    "            self.arr[h].append((key,value))\n",
    "    \n",
    "    def __getitem__(self,key):\n",
    "        h = self.get_hash(key)\n",
    "        for element in (self.arr[h]):\n",
    "            if element[0] == key:\n",
    "                return element[1]\n",
    "    \n",
    "    def __delitem__(self,key):\n",
    "        h = self.get_hash(key)\n",
    "        for index, element in enumerate(self.arr[h]):\n",
    "            if element[0] == key:\n",
    "                del self.arr[h][index]\n",
    "                \n",
    "        "
   ]
  }
 ],
 "metadata": {
  "kernelspec": {
   "display_name": "Python 3",
   "language": "python",
   "name": "python3"
  },
  "language_info": {
   "codemirror_mode": {
    "name": "ipython",
    "version": 3
   },
   "file_extension": ".py",
   "mimetype": "text/x-python",
   "name": "python",
   "nbconvert_exporter": "python",
   "pygments_lexer": "ipython3",
   "version": "3.7.4"
  }
 },
 "nbformat": 4,
 "nbformat_minor": 2
}
